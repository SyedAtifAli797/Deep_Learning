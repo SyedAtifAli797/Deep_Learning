{
 "cells": [
  {
   "cell_type": "code",
   "execution_count": 5,
   "metadata": {
    "id": "KAPrzu_D8fTR"
   },
   "outputs": [],
   "source": [
    "import random\n",
    "import numpy as np\n",
    "import matplotlib.pyplot as plt\n",
    "\n",
    "from scipy import signal\n",
    "# signal module from scipy performs operations on 2D matrices \n",
    "# (typically used for image processing, filtering, and feature extraction)\n",
    "\n",
    "from keras.datasets import mnist\n",
    "from tensorflow.keras import utils"
   ]
  },
  {
   "cell_type": "markdown",
   "metadata": {},
   "source": [
    "### Base layer class to specify the Layer properites"
   ]
  },
  {
   "cell_type": "code",
   "execution_count": 6,
   "metadata": {
    "id": "F2yeFSaY8jzG"
   },
   "outputs": [],
   "source": [
    "class Layer:\n",
    "\n",
    "    def __init__(self):\n",
    "        self.input = None\n",
    "        self.output = None\n",
    "\n",
    "    def forward(self, input):\n",
    "        pass\n",
    "\n",
    "    def backward(self, output_gradient, learning_rate):\n",
    "        pass"
   ]
  },
  {
   "cell_type": "markdown",
   "metadata": {
    "id": "Cy2AcJ9I-yNc"
   },
   "source": [
    "### Forward Propagation in Convolution Layer"
   ]
  },
  {
   "cell_type": "code",
   "execution_count": null,
   "metadata": {},
   "outputs": [],
   "source": [
    "class Convolutional(Layer):\n",
    "    \n",
    "    def __init__(self, input_shape, kernel_size, depth):\n",
    "        # Input_shape is 3 dimensional (dxhxw)\n",
    "        # input depth  = no.of channels\n",
    "        # input_height = image height and\n",
    "        # input_width  = image width\n",
    "        input_depth, input_height, input_width = input_shape\n",
    "\n",
    "        # Depth represents the number of kernels of our convolutional layer\n",
    "        self.depth = depth\n",
    "        self.input_shape = input_shape\n",
    "\n",
    "        # number of channels in the image\n",
    "        self.input_depth = input_depth\n",
    "\n",
    "        # Calculating Conv layer output of 3 dimensions\n",
    "        # first dim  = number of filters/kernels\n",
    "        # second dim = height of the output matrix after applying convolution\n",
    "        # third dim  = width of the output matrix after applying convolution\n",
    "        self.output_shape = (depth, input_height - kernel_size + 1, input_width - kernel_size + 1)\n",
    "\n",
    "        # Kernels shape takes 4 dimensions\n",
    "        # depth = no. of kernels\n",
    "        # input_depth = image channels\n",
    "        # kernel_size = kernel dimension\n",
    "        self.kernels_shape = (depth, input_depth, kernel_size, kernel_size)\n",
    "\n",
    "        # Initalizing the Kernels weights randomly\n",
    "        self.kernels = np.random.randn(*self.kernels_shape)\n",
    "\n",
    "        # Initializing the biases randomly\n",
    "        self.biases = np.random.rand(*self.output_shape)\n",
    "\n",
    "    # Forward Pass\n",
    "    def forward(self, input):\n",
    "        self.input = input\n",
    "        # Inititialize output matrix with output_shape\n",
    "        self.output = np.zeros(self.output_shape)\n",
    "\n",
    "        # Nested loop for traversing across all filters (depth), then all channels (input_depth) in every input image\n",
    "        for i in range(self.depth):\n",
    "            for j in range(self.input_depth):\n",
    "                # Output = Conv(Input, Kernel) + Bias\n",
    "                self.output[i] = self.biases[i] + signal.correlate2d(self.input[j], self.kernels[i, j], \"valid\")    \n",
    "                                                                                  # valid stands for no padding\n",
    "        return self.output\n",
    "\n",
    "    # Backward Pass\n",
    "    def backward(self, output_gradient, learning_rate):\n",
    "        # Intializing the gradient of the kernels as zeros\n",
    "        kernels_gradient = np.zeros(self.kernels_shape)\n",
    "\n",
    "        # Intializing the gradient of the input as zeros\n",
    "        input_gradient = np.zeros(self.input_shape)\n",
    "\n",
    "        # Nested loop for updating the gradients of kernels and inputs, \n",
    "        # first traversing all filters (depth), then all channels (input_depth) in every input image\n",
    "        for i in range(self.depth):\n",
    "            for j in range(self.input_depth):\n",
    "                # Calculate kernels gradient in every i and j index in the kernel, \n",
    "                kernels_gradient[i,j] = signal.correlate2d(self.input[j], output_gradient[i], \"valid\")  \n",
    "                                        # Computes the cross-correlation between two 2D arrays\n",
    "\n",
    "                #Calculate input gradient by sliding the kernel on the output gradient matrix\n",
    "                input_gradient[j] += signal.convolve2d(output_gradient[i], self.kernels[i, j], \"full\")  \n",
    "                                        # Performs 2D convolution but flips the kernel before sliding over the input\n",
    "                                        # full stands for full padding\n",
    "                                        # padding = kernel size−1\n",
    "\n",
    "        # Update the kernels and biases w.r.t. learned features (stored in gradients)\n",
    "        self.kernels -= learning_rate * kernels_gradient\n",
    "        self.biases -= learning_rate * np.sum(output_gradient)\n",
    "\n",
    "        return input_gradient"
   ]
  },
  {
   "cell_type": "code",
   "execution_count": null,
   "metadata": {},
   "outputs": [],
   "source": []
  }
 ],
 "metadata": {
  "accelerator": "GPU",
  "colab": {
   "gpuType": "T4",
   "provenance": []
  },
  "kernelspec": {
   "display_name": "Python 3 (ipykernel)",
   "language": "python",
   "name": "python3"
  },
  "language_info": {
   "codemirror_mode": {
    "name": "ipython",
    "version": 3
   },
   "file_extension": ".py",
   "mimetype": "text/x-python",
   "name": "python",
   "nbconvert_exporter": "python",
   "pygments_lexer": "ipython3",
   "version": "3.11.4"
  }
 },
 "nbformat": 4,
 "nbformat_minor": 1
}
