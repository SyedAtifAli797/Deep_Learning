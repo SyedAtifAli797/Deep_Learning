{
 "cells": [
  {
   "cell_type": "code",
   "execution_count": 2,
   "id": "0a7b3633",
   "metadata": {},
   "outputs": [],
   "source": [
    "import pandas as pd\n",
    "import numpy as np\n",
    "import matplotlib.pyplot as plt\n",
    "import seaborn as sns"
   ]
  },
  {
   "cell_type": "code",
   "execution_count": 3,
   "id": "b983c5a6",
   "metadata": {},
   "outputs": [
    {
     "data": {
      "text/html": [
       "<div>\n",
       "<style scoped>\n",
       "    .dataframe tbody tr th:only-of-type {\n",
       "        vertical-align: middle;\n",
       "    }\n",
       "\n",
       "    .dataframe tbody tr th {\n",
       "        vertical-align: top;\n",
       "    }\n",
       "\n",
       "    .dataframe thead th {\n",
       "        text-align: right;\n",
       "    }\n",
       "</style>\n",
       "<table border=\"1\" class=\"dataframe\">\n",
       "  <thead>\n",
       "    <tr style=\"text-align: right;\">\n",
       "      <th></th>\n",
       "      <th>x1</th>\n",
       "      <th>x2</th>\n",
       "      <th>y</th>\n",
       "    </tr>\n",
       "  </thead>\n",
       "  <tbody>\n",
       "    <tr>\n",
       "      <th>0</th>\n",
       "      <td>0.000000</td>\n",
       "      <td>0.000000</td>\n",
       "      <td>0</td>\n",
       "    </tr>\n",
       "    <tr>\n",
       "      <th>1</th>\n",
       "      <td>-0.000650</td>\n",
       "      <td>0.010080</td>\n",
       "      <td>0</td>\n",
       "    </tr>\n",
       "    <tr>\n",
       "      <th>2</th>\n",
       "      <td>0.009809</td>\n",
       "      <td>0.017661</td>\n",
       "      <td>0</td>\n",
       "    </tr>\n",
       "    <tr>\n",
       "      <th>3</th>\n",
       "      <td>0.007487</td>\n",
       "      <td>0.029364</td>\n",
       "      <td>0</td>\n",
       "    </tr>\n",
       "    <tr>\n",
       "      <th>4</th>\n",
       "      <td>-0.000027</td>\n",
       "      <td>0.040404</td>\n",
       "      <td>0</td>\n",
       "    </tr>\n",
       "  </tbody>\n",
       "</table>\n",
       "</div>"
      ],
      "text/plain": [
       "         x1        x2  y\n",
       "0  0.000000  0.000000  0\n",
       "1 -0.000650  0.010080  0\n",
       "2  0.009809  0.017661  0\n",
       "3  0.007487  0.029364  0\n",
       "4 -0.000027  0.040404  0"
      ]
     },
     "execution_count": 3,
     "metadata": {},
     "output_type": "execute_result"
    }
   ],
   "source": [
    "df = pd.read_csv(\"spiral.csv\")\n",
    "df.head()"
   ]
  },
  {
   "cell_type": "code",
   "execution_count": 4,
   "id": "b7a903a7",
   "metadata": {},
   "outputs": [],
   "source": [
    "X = df.drop('y', axis=1).to_numpy()"
   ]
  },
  {
   "cell_type": "code",
   "execution_count": 8,
   "id": "c202435a",
   "metadata": {},
   "outputs": [
    {
     "data": {
      "text/plain": [
       "array([[ 0.00000000e+00,  0.00000000e+00],\n",
       "       [-6.50123964e-04,  1.00800667e-02],\n",
       "       [ 9.80910862e-03,  1.76607760e-02],\n",
       "       [ 7.48711824e-03,  2.93635268e-02],\n",
       "       [-2.71404625e-05,  4.04040313e-02],\n",
       "       [ 7.41008855e-03,  4.99584899e-02],\n",
       "       [ 3.04241080e-02,  5.24162974e-02],\n",
       "       [ 2.47420249e-02,  6.62368632e-02],\n",
       "       [ 1.60027032e-02,  7.92076979e-02],\n",
       "       [ 3.90523417e-02,  8.20937112e-02]])"
      ]
     },
     "execution_count": 8,
     "metadata": {},
     "output_type": "execute_result"
    }
   ],
   "source": [
    "X[:10]"
   ]
  },
  {
   "cell_type": "code",
   "execution_count": 9,
   "id": "d1fb974d",
   "metadata": {},
   "outputs": [],
   "source": [
    "y = df['y'].to_numpy()"
   ]
  },
  {
   "cell_type": "code",
   "execution_count": 10,
   "id": "9c4a8bc3",
   "metadata": {},
   "outputs": [
    {
     "data": {
      "text/plain": [
       "array([0, 0, 0, 0, 0, 0, 0, 0, 0, 0, 0, 0, 0, 0, 0, 0, 0, 0, 0, 0, 0, 0,\n",
       "       0, 0, 0, 0, 0, 0, 0, 0, 0, 0, 0, 0, 0, 0, 0, 0, 0, 0, 0, 0, 0, 0,\n",
       "       0, 0, 0, 0, 0, 0, 0, 0, 0, 0, 0, 0, 0, 0, 0, 0, 0, 0, 0, 0, 0, 0,\n",
       "       0, 0, 0, 0, 0, 0, 0, 0, 0, 0, 0, 0, 0, 0, 0, 0, 0, 0, 0, 0, 0, 0,\n",
       "       0, 0, 0, 0, 0, 0, 0, 0, 0, 0, 0, 0, 1, 1, 1, 1, 1, 1, 1, 1, 1, 1,\n",
       "       1, 1, 1, 1, 1, 1, 1, 1, 1, 1, 1, 1, 1, 1, 1, 1, 1, 1, 1, 1, 1, 1,\n",
       "       1, 1, 1, 1, 1, 1, 1, 1, 1, 1, 1, 1, 1, 1, 1, 1, 1, 1, 1, 1, 1, 1,\n",
       "       1, 1, 1, 1, 1, 1, 1, 1, 1, 1, 1, 1, 1, 1, 1, 1, 1, 1, 1, 1, 1, 1,\n",
       "       1, 1, 1, 1, 1, 1, 1, 1, 1, 1, 1, 1, 1, 1, 1, 1, 1, 1, 1, 1, 1, 1,\n",
       "       1, 1, 2, 2, 2, 2, 2, 2, 2, 2, 2, 2, 2, 2, 2, 2, 2, 2, 2, 2, 2, 2,\n",
       "       2, 2, 2, 2, 2, 2, 2, 2, 2, 2, 2, 2, 2, 2, 2, 2, 2, 2, 2, 2, 2, 2,\n",
       "       2, 2, 2, 2, 2, 2, 2, 2, 2, 2, 2, 2, 2, 2, 2, 2, 2, 2, 2, 2, 2, 2,\n",
       "       2, 2, 2, 2, 2, 2, 2, 2, 2, 2, 2, 2, 2, 2, 2, 2, 2, 2, 2, 2, 2, 2,\n",
       "       2, 2, 2, 2, 2, 2, 2, 2, 2, 2, 2, 2, 2, 2], dtype=int64)"
      ]
     },
     "execution_count": 10,
     "metadata": {},
     "output_type": "execute_result"
    }
   ],
   "source": [
    "y"
   ]
  },
  {
   "cell_type": "code",
   "execution_count": 11,
   "id": "bea9a179",
   "metadata": {},
   "outputs": [
    {
     "data": {
      "text/plain": [
       "((300, 2), (300,))"
      ]
     },
     "execution_count": 11,
     "metadata": {},
     "output_type": "execute_result"
    }
   ],
   "source": [
    "X.shape, y.shape"
   ]
  },
  {
   "cell_type": "code",
   "execution_count": 15,
   "id": "3111c08f",
   "metadata": {},
   "outputs": [],
   "source": [
    "d = X.shape[1]\n",
    "h = 4\n",
    "n = len(np.unique(y))"
   ]
  },
  {
   "cell_type": "code",
   "execution_count": 16,
   "id": "11e1a702",
   "metadata": {},
   "outputs": [],
   "source": [
    "W1 = 0.01 * np.random.randn(d,h)\n",
    "b1 = np.zeros((1,h))\n",
    "W2 = 0.01 * np.random.randn(h,n)\n",
    "b2 = np.zeros((1,n))"
   ]
  },
  {
   "cell_type": "code",
   "execution_count": 17,
   "id": "9ee9b937",
   "metadata": {},
   "outputs": [
    {
     "data": {
      "text/plain": [
       "((2, 4), (1, 4))"
      ]
     },
     "execution_count": 17,
     "metadata": {},
     "output_type": "execute_result"
    }
   ],
   "source": [
    "W1.shape, b1.shape"
   ]
  },
  {
   "cell_type": "code",
   "execution_count": 18,
   "id": "df508dbc",
   "metadata": {},
   "outputs": [
    {
     "data": {
      "text/plain": [
       "((4, 3), (1, 3))"
      ]
     },
     "execution_count": 18,
     "metadata": {},
     "output_type": "execute_result"
    }
   ],
   "source": [
    "W2.shape, b2.shape"
   ]
  },
  {
   "cell_type": "markdown",
   "id": "0b50d432",
   "metadata": {},
   "source": [
    "### Layer-1"
   ]
  },
  {
   "cell_type": "code",
   "execution_count": 19,
   "id": "039bc8cc",
   "metadata": {},
   "outputs": [
    {
     "data": {
      "text/plain": [
       "array([[ 0.00000000e+00,  0.00000000e+00,  0.00000000e+00,\n",
       "         0.00000000e+00],\n",
       "       [ 6.57618897e-05,  2.32072808e-05, -5.77966203e-05,\n",
       "        -1.15760347e-04],\n",
       "       [ 1.99602195e-05, -8.39865376e-05, -1.33920602e-04,\n",
       "        -1.71264473e-04],\n",
       "       ...,\n",
       "       [ 9.96317837e-03,  8.36891629e-03, -2.55218232e-03,\n",
       "        -1.02809868e-02],\n",
       "       [ 9.83454317e-03,  7.87249518e-03, -3.01574247e-03,\n",
       "        -1.07290231e-02],\n",
       "       [ 9.38699747e-03,  6.80113948e-03, -3.79016446e-03,\n",
       "        -1.13071512e-02]])"
      ]
     },
     "execution_count": 19,
     "metadata": {},
     "output_type": "execute_result"
    }
   ],
   "source": [
    "Z1 = np.dot(X, W1) + b1        # (300,2) x (2,4) + (1,4) => (300,4)\n",
    "Z1"
   ]
  },
  {
   "cell_type": "code",
   "execution_count": 20,
   "id": "5a82b167",
   "metadata": {},
   "outputs": [
    {
     "data": {
      "text/plain": [
       "(300, 4)"
      ]
     },
     "execution_count": 20,
     "metadata": {},
     "output_type": "execute_result"
    }
   ],
   "source": [
    "Z1.shape"
   ]
  },
  {
   "cell_type": "code",
   "execution_count": 23,
   "id": "a4194fca",
   "metadata": {},
   "outputs": [],
   "source": [
    "# ReLU Activation --> if Z1 <= 0 then 0 else Z1\n",
    "Z1[Z1<=0] = 0\n",
    "A1 = Z1"
   ]
  },
  {
   "cell_type": "code",
   "execution_count": 24,
   "id": "c9181425",
   "metadata": {},
   "outputs": [
    {
     "data": {
      "text/plain": [
       "array([[0.00000000e+00, 0.00000000e+00, 0.00000000e+00, 0.00000000e+00],\n",
       "       [6.57618897e-05, 2.32072808e-05, 0.00000000e+00, 0.00000000e+00],\n",
       "       [1.99602195e-05, 0.00000000e+00, 0.00000000e+00, 0.00000000e+00],\n",
       "       ...,\n",
       "       [9.96317837e-03, 8.36891629e-03, 0.00000000e+00, 0.00000000e+00],\n",
       "       [9.83454317e-03, 7.87249518e-03, 0.00000000e+00, 0.00000000e+00],\n",
       "       [9.38699747e-03, 6.80113948e-03, 0.00000000e+00, 0.00000000e+00]])"
      ]
     },
     "execution_count": 24,
     "metadata": {},
     "output_type": "execute_result"
    }
   ],
   "source": [
    "A1"
   ]
  },
  {
   "cell_type": "code",
   "execution_count": 25,
   "id": "4e6cc942",
   "metadata": {},
   "outputs": [
    {
     "data": {
      "text/plain": [
       "(300, 4)"
      ]
     },
     "execution_count": 25,
     "metadata": {},
     "output_type": "execute_result"
    }
   ],
   "source": [
    "A1.shape"
   ]
  },
  {
   "cell_type": "markdown",
   "id": "72eab758",
   "metadata": {},
   "source": [
    "### Layer-2"
   ]
  },
  {
   "cell_type": "code",
   "execution_count": 27,
   "id": "32e49dc3",
   "metadata": {},
   "outputs": [
    {
     "data": {
      "text/plain": [
       "array([[ 0.00000000e+00,  0.00000000e+00,  0.00000000e+00],\n",
       "       [-6.56109712e-07,  1.08739240e-06,  1.63410506e-06],\n",
       "       [-2.20974266e-07,  2.21325526e-07,  3.46543128e-07],\n",
       "       [-1.21716539e-06,  1.21910019e-06,  1.90882092e-06],\n",
       "       [-2.47248351e-06,  3.65664956e-06,  5.53755369e-06],\n",
       "       [-2.58410850e-06,  2.58821619e-06,  4.05253092e-06],\n",
       "       [-5.29543336e-07,  5.30385097e-07,  8.30456903e-07],\n",
       "       [-1.98919537e-06,  1.99235738e-06,  3.11955776e-06],\n",
       "       [-3.68724118e-06,  3.69310240e-06,  5.78251992e-06],\n",
       "       [-1.65751193e-06,  1.66014671e-06,  2.59939486e-06]])"
      ]
     },
     "execution_count": 27,
     "metadata": {},
     "output_type": "execute_result"
    }
   ],
   "source": [
    "Z2 = np.dot(A1, W2) + b2     # (300,4) x (4,3) + (1,3) = (300,3)\n",
    "Z2[:10]"
   ]
  },
  {
   "cell_type": "code",
   "execution_count": 28,
   "id": "6d803f09",
   "metadata": {},
   "outputs": [
    {
     "data": {
      "text/plain": [
       "(300, 3)"
      ]
     },
     "execution_count": 28,
     "metadata": {},
     "output_type": "execute_result"
    }
   ],
   "source": [
    "Z2.shape"
   ]
  },
  {
   "cell_type": "code",
   "execution_count": 29,
   "id": "b56196af",
   "metadata": {},
   "outputs": [],
   "source": [
    "# Applying Softmax for multiclass classification\n",
    "exp_z2 = np.exp(Z2)\n",
    "A2 = exp_z2/np.sum(exp_z2, axis=1, keepdims=True)\n",
    "probs = A2"
   ]
  },
  {
   "cell_type": "code",
   "execution_count": 31,
   "id": "d7a729ea",
   "metadata": {},
   "outputs": [
    {
     "data": {
      "text/plain": [
       "array([[0.33333333, 0.33333333, 0.33333333],\n",
       "       [0.33333289, 0.33333347, 0.33333365],\n",
       "       [0.33333322, 0.33333337, 0.33333341],\n",
       "       [0.33333272, 0.33333353, 0.33333376],\n",
       "       [0.33333176, 0.33333381, 0.33333443],\n",
       "       [0.33333202, 0.33333375, 0.33333423],\n",
       "       [0.33333306, 0.33333342, 0.33333352],\n",
       "       [0.33333232, 0.33333365, 0.33333403],\n",
       "       [0.33333146, 0.33333392, 0.33333462],\n",
       "       [0.33333249, 0.3333336 , 0.33333391]])"
      ]
     },
     "execution_count": 31,
     "metadata": {},
     "output_type": "execute_result"
    }
   ],
   "source": [
    "probs[:10]"
   ]
  },
  {
   "cell_type": "markdown",
   "id": "605020bb",
   "metadata": {},
   "source": [
    "Calculating dz2"
   ]
  },
  {
   "cell_type": "code",
   "execution_count": 32,
   "id": "6b21dd52",
   "metadata": {},
   "outputs": [],
   "source": [
    "m = X.shape[0]"
   ]
  },
  {
   "cell_type": "code",
   "execution_count": 34,
   "id": "3920de90",
   "metadata": {},
   "outputs": [],
   "source": [
    "dz2 = probs\n",
    "dz2[range(m),y] -= 1"
   ]
  },
  {
   "cell_type": "code",
   "execution_count": 35,
   "id": "ef233bff",
   "metadata": {},
   "outputs": [
    {
     "data": {
      "text/plain": [
       "array([[ 4.87147728e-04, -3.35578350e-05, -4.53589893e-04],\n",
       "       [ 3.87254749e-04,  2.36680168e-04, -6.23934917e-04],\n",
       "       [-2.38913959e-04,  3.57027355e-04, -1.18113395e-04],\n",
       "       [-6.49695633e-04,  5.62275107e-04,  8.74205259e-05]])"
      ]
     },
     "execution_count": 35,
     "metadata": {},
     "output_type": "execute_result"
    }
   ],
   "source": [
    "dW2 = np.dot(A1.T, dz2)/m\n",
    "dW2"
   ]
  },
  {
   "cell_type": "code",
   "execution_count": 40,
   "id": "948527c2",
   "metadata": {},
   "outputs": [
    {
     "data": {
      "text/plain": [
       "array([[-1.84912165e-05,  4.78165715e-06,  1.37095593e-05]])"
      ]
     },
     "execution_count": 40,
     "metadata": {},
     "output_type": "execute_result"
    }
   ],
   "source": [
    "db2 = np.sum(dz2, axis=0, keepdims=True)/m\n",
    "db2"
   ]
  },
  {
   "cell_type": "code",
   "execution_count": 41,
   "id": "adf1991c",
   "metadata": {},
   "outputs": [
    {
     "data": {
      "text/plain": [
       "array([[ 0.01686383,  0.01015091,  0.00157527,  0.00348852],\n",
       "       [ 0.01686384,  0.01015092,  0.00157527,  0.00348852],\n",
       "       [ 0.01686383,  0.01015091,  0.00157527,  0.00348852],\n",
       "       ...,\n",
       "       [-0.01156634, -0.00796464, -0.00093453, -0.0030653 ],\n",
       "       [-0.01156641, -0.00796468, -0.00093454, -0.00306531],\n",
       "       [-0.01156657, -0.00796478, -0.00093455, -0.00306535]])"
      ]
     },
     "execution_count": 41,
     "metadata": {},
     "output_type": "execute_result"
    }
   ],
   "source": [
    "dA1 = np.dot(dz2, W2.T)\n",
    "dA1"
   ]
  },
  {
   "cell_type": "code",
   "execution_count": 42,
   "id": "bfd59535",
   "metadata": {},
   "outputs": [],
   "source": [
    "dA1[Z1 <= 0] = 0 # was dA1[A1 <= 0] = 0. changed it to dA1[Z1 <= 0] = 0\n",
    "dz1 = dA1 # same shape as dA1 (300, 4)"
   ]
  },
  {
   "cell_type": "code",
   "execution_count": 43,
   "id": "b658a875",
   "metadata": {},
   "outputs": [],
   "source": [
    "dW1 = np.dot(X.T, dz1)/m # (2, 300) x (300 ,4) => (2, 4)\n",
    "db1 = np.sum(dz1, axis=0, keepdims=True)/m"
   ]
  },
  {
   "cell_type": "code",
   "execution_count": 45,
   "id": "75ea649d",
   "metadata": {},
   "outputs": [],
   "source": [
    "lr = 0.1"
   ]
  },
  {
   "cell_type": "code",
   "execution_count": 46,
   "id": "c2f366e4",
   "metadata": {},
   "outputs": [],
   "source": [
    "# perform a parameter update\n",
    "W1 += -lr * dW1\n",
    "b1 += -lr * db1\n",
    "W2 += -lr * dW2\n",
    "b2 += -lr * db2"
   ]
  },
  {
   "cell_type": "code",
   "execution_count": null,
   "id": "ba038a81",
   "metadata": {},
   "outputs": [],
   "source": []
  }
 ],
 "metadata": {
  "kernelspec": {
   "display_name": "Python 3 (ipykernel)",
   "language": "python",
   "name": "python3"
  },
  "language_info": {
   "codemirror_mode": {
    "name": "ipython",
    "version": 3
   },
   "file_extension": ".py",
   "mimetype": "text/x-python",
   "name": "python",
   "nbconvert_exporter": "python",
   "pygments_lexer": "ipython3",
   "version": "3.11.4"
  }
 },
 "nbformat": 4,
 "nbformat_minor": 5
}
