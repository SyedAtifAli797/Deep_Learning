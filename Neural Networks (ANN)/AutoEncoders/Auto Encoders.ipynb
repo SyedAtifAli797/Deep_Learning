{
 "cells": [
  {
   "cell_type": "code",
   "execution_count": 27,
   "id": "b9c2b10e",
   "metadata": {},
   "outputs": [],
   "source": [
    "import numpy as np\n",
    "import pandas as pd\n",
    "import matplotlib.pyplot as plt"
   ]
  },
  {
   "cell_type": "code",
   "execution_count": 74,
   "id": "31fe8fa4",
   "metadata": {},
   "outputs": [],
   "source": [
    "import keras\n",
    "from keras import layers\n",
    "from keras.datasets import mnist"
   ]
  },
  {
   "cell_type": "markdown",
   "id": "4a1ddb5c",
   "metadata": {},
   "source": [
    "### Loading the MNIST Dataset"
   ]
  },
  {
   "cell_type": "code",
   "execution_count": 75,
   "id": "119e1098",
   "metadata": {},
   "outputs": [],
   "source": [
    "(x_train, y_train), (x_test, y_test) = mnist.load_data()"
   ]
  },
  {
   "cell_type": "code",
   "execution_count": 76,
   "id": "0a60bb25",
   "metadata": {},
   "outputs": [
    {
     "data": {
      "text/plain": [
       "array([[[0, 0, 0, ..., 0, 0, 0],\n",
       "        [0, 0, 0, ..., 0, 0, 0],\n",
       "        [0, 0, 0, ..., 0, 0, 0],\n",
       "        ...,\n",
       "        [0, 0, 0, ..., 0, 0, 0],\n",
       "        [0, 0, 0, ..., 0, 0, 0],\n",
       "        [0, 0, 0, ..., 0, 0, 0]],\n",
       "\n",
       "       [[0, 0, 0, ..., 0, 0, 0],\n",
       "        [0, 0, 0, ..., 0, 0, 0],\n",
       "        [0, 0, 0, ..., 0, 0, 0],\n",
       "        ...,\n",
       "        [0, 0, 0, ..., 0, 0, 0],\n",
       "        [0, 0, 0, ..., 0, 0, 0],\n",
       "        [0, 0, 0, ..., 0, 0, 0]]], dtype=uint8)"
      ]
     },
     "execution_count": 76,
     "metadata": {},
     "output_type": "execute_result"
    }
   ],
   "source": [
    "x_train[:2]"
   ]
  },
  {
   "cell_type": "code",
   "execution_count": 77,
   "id": "48287b66",
   "metadata": {},
   "outputs": [
    {
     "data": {
      "text/plain": [
       "(60000, 28, 28)"
      ]
     },
     "execution_count": 77,
     "metadata": {},
     "output_type": "execute_result"
    }
   ],
   "source": [
    "x_train.shape"
   ]
  },
  {
   "cell_type": "code",
   "execution_count": 78,
   "id": "9918e01a",
   "metadata": {},
   "outputs": [],
   "source": [
    "# Normalization of input\n",
    "\n",
    "x_train = x_train.astype('float32') / 255.\n",
    "x_test = x_test.astype('float32') / 255."
   ]
  },
  {
   "cell_type": "code",
   "execution_count": 79,
   "id": "ad18523a",
   "metadata": {},
   "outputs": [
    {
     "data": {
      "text/plain": [
       "array([[[0., 0., 0., ..., 0., 0., 0.],\n",
       "        [0., 0., 0., ..., 0., 0., 0.],\n",
       "        [0., 0., 0., ..., 0., 0., 0.],\n",
       "        ...,\n",
       "        [0., 0., 0., ..., 0., 0., 0.],\n",
       "        [0., 0., 0., ..., 0., 0., 0.],\n",
       "        [0., 0., 0., ..., 0., 0., 0.]],\n",
       "\n",
       "       [[0., 0., 0., ..., 0., 0., 0.],\n",
       "        [0., 0., 0., ..., 0., 0., 0.],\n",
       "        [0., 0., 0., ..., 0., 0., 0.],\n",
       "        ...,\n",
       "        [0., 0., 0., ..., 0., 0., 0.],\n",
       "        [0., 0., 0., ..., 0., 0., 0.],\n",
       "        [0., 0., 0., ..., 0., 0., 0.]]], dtype=float32)"
      ]
     },
     "execution_count": 79,
     "metadata": {},
     "output_type": "execute_result"
    }
   ],
   "source": [
    "x_train[:2]"
   ]
  },
  {
   "cell_type": "code",
   "execution_count": 80,
   "id": "bb7b606b",
   "metadata": {},
   "outputs": [
    {
     "data": {
      "text/plain": [
       "(60000, 28, 28)"
      ]
     },
     "execution_count": 80,
     "metadata": {},
     "output_type": "execute_result"
    }
   ],
   "source": [
    "x_train.shape"
   ]
  },
  {
   "cell_type": "code",
   "execution_count": 81,
   "id": "9502358b",
   "metadata": {},
   "outputs": [],
   "source": [
    "# Reshaping the images to 1D vectors\n",
    "\n",
    "x_train = x_train.reshape((len(x_train), np.prod(x_train.shape[1:])))\n",
    "x_test = x_test.reshape((len(x_test), np.prod(x_test.shape[1:])))"
   ]
  },
  {
   "cell_type": "code",
   "execution_count": 82,
   "id": "b615905d",
   "metadata": {},
   "outputs": [
    {
     "data": {
      "text/plain": [
       "array([[0., 0., 0., ..., 0., 0., 0.],\n",
       "       [0., 0., 0., ..., 0., 0., 0.]], dtype=float32)"
      ]
     },
     "execution_count": 82,
     "metadata": {},
     "output_type": "execute_result"
    }
   ],
   "source": [
    "x_train[:2]"
   ]
  },
  {
   "cell_type": "code",
   "execution_count": 83,
   "id": "733cbf74",
   "metadata": {},
   "outputs": [
    {
     "data": {
      "text/plain": [
       "((60000, 784), (10000, 784))"
      ]
     },
     "execution_count": 83,
     "metadata": {},
     "output_type": "execute_result"
    }
   ],
   "source": [
    "x_train.shape, x_test.shape"
   ]
  },
  {
   "cell_type": "code",
   "execution_count": 84,
   "id": "83fd923b",
   "metadata": {},
   "outputs": [
    {
     "data": {
      "text/plain": [
       "((60000,), (10000,))"
      ]
     },
     "execution_count": 84,
     "metadata": {},
     "output_type": "execute_result"
    }
   ],
   "source": [
    "y_train.shape, y_test.shape"
   ]
  },
  {
   "cell_type": "markdown",
   "id": "597bb5a1",
   "metadata": {},
   "source": [
    "#### AutoEncoder Model"
   ]
  },
  {
   "cell_type": "code",
   "execution_count": 20,
   "id": "d6c0189b",
   "metadata": {},
   "outputs": [],
   "source": [
    "# AutoEncoder model - Functional API\n",
    "\n",
    "# Input layer\n",
    "input_img = keras.Input(shape=(784,))\n",
    "\n",
    "# Encoding\n",
    "encoded1 = layers.Dense(128, activation='relu')(input_img)\n",
    "encoded2 = layers.Dense(64, activation='relu')(encoded1)\n",
    "\n",
    "# Bottleneck layer\n",
    "encoded3 = layers.Dense(32, activation='relu')(encoded2)\n",
    "\n",
    "# Decoding\n",
    "decoded1 = layers.Dense(64, activation='relu')(encoded3)\n",
    "decoded2 = layers.Dense(128, activation='relu')(decoded1)\n",
    "\n",
    "# Output\n",
    "output_decoded = layers.Dense(784, activation='sigmoid')(decoded2)\n"
   ]
  },
  {
   "cell_type": "code",
   "execution_count": 21,
   "id": "aa340824",
   "metadata": {},
   "outputs": [],
   "source": [
    "autoencoder = keras.Model(input_img, output_decoded)"
   ]
  },
  {
   "cell_type": "code",
   "execution_count": 22,
   "id": "a8ec445c",
   "metadata": {},
   "outputs": [
    {
     "name": "stdout",
     "output_type": "stream",
     "text": [
      "Model: \"model\"\n",
      "_________________________________________________________________\n",
      " Layer (type)                Output Shape              Param #   \n",
      "=================================================================\n",
      " input_1 (InputLayer)        [(None, 784)]             0         \n",
      "                                                                 \n",
      " dense (Dense)               (None, 128)               100480    \n",
      "                                                                 \n",
      " dense_1 (Dense)             (None, 64)                8256      \n",
      "                                                                 \n",
      " dense_2 (Dense)             (None, 32)                2080      \n",
      "                                                                 \n",
      " dense_3 (Dense)             (None, 64)                2112      \n",
      "                                                                 \n",
      " dense_4 (Dense)             (None, 128)               8320      \n",
      "                                                                 \n",
      " dense_5 (Dense)             (None, 784)               101136    \n",
      "                                                                 \n",
      "=================================================================\n",
      "Total params: 222384 (868.69 KB)\n",
      "Trainable params: 222384 (868.69 KB)\n",
      "Non-trainable params: 0 (0.00 Byte)\n",
      "_________________________________________________________________\n"
     ]
    }
   ],
   "source": [
    "autoencoder.summary()"
   ]
  },
  {
   "cell_type": "code",
   "execution_count": 23,
   "id": "ec5aa350",
   "metadata": {},
   "outputs": [],
   "source": [
    "autoencoder.compile(optimizer='adam', \n",
    "                    loss='binary_crossentropy')"
   ]
  },
  {
   "cell_type": "code",
   "execution_count": 24,
   "id": "5c63cb59",
   "metadata": {},
   "outputs": [
    {
     "name": "stdout",
     "output_type": "stream",
     "text": [
      "Epoch 1/10\n",
      "235/235 [==============================] - 5s 14ms/step - loss: 0.2426 - val_loss: 0.1660\n",
      "Epoch 2/10\n",
      "235/235 [==============================] - 3s 12ms/step - loss: 0.1504 - val_loss: 0.1371\n",
      "Epoch 3/10\n",
      "235/235 [==============================] - 3s 12ms/step - loss: 0.1312 - val_loss: 0.1249\n",
      "Epoch 4/10\n",
      "235/235 [==============================] - 3s 12ms/step - loss: 0.1230 - val_loss: 0.1195\n",
      "Epoch 5/10\n",
      "235/235 [==============================] - 3s 12ms/step - loss: 0.1177 - val_loss: 0.1138\n",
      "Epoch 6/10\n",
      "235/235 [==============================] - 3s 12ms/step - loss: 0.1129 - val_loss: 0.1092\n",
      "Epoch 7/10\n",
      "235/235 [==============================] - 3s 13ms/step - loss: 0.1088 - val_loss: 0.1056\n",
      "Epoch 8/10\n",
      "235/235 [==============================] - 3s 13ms/step - loss: 0.1055 - val_loss: 0.1028\n",
      "Epoch 9/10\n",
      "235/235 [==============================] - 3s 12ms/step - loss: 0.1030 - val_loss: 0.1011\n",
      "Epoch 10/10\n",
      "235/235 [==============================] - 3s 13ms/step - loss: 0.1011 - val_loss: 0.0991\n"
     ]
    },
    {
     "data": {
      "text/plain": [
       "<keras.src.callbacks.History at 0x1ebf0a9ba50>"
      ]
     },
     "execution_count": 24,
     "metadata": {},
     "output_type": "execute_result"
    }
   ],
   "source": [
    "autoencoder.fit(x_train, x_train,\n",
    "                epochs=10,\n",
    "                batch_size=256,\n",
    "                shuffle=True,\n",
    "                validation_data=(x_test, x_test))"
   ]
  },
  {
   "cell_type": "markdown",
   "id": "32743eba",
   "metadata": {},
   "source": [
    "#### Visualize the outputs"
   ]
  },
  {
   "cell_type": "code",
   "execution_count": 25,
   "id": "864f0b18",
   "metadata": {},
   "outputs": [
    {
     "name": "stdout",
     "output_type": "stream",
     "text": [
      "313/313 [==============================] - 1s 2ms/step\n"
     ]
    },
    {
     "data": {
      "image/png": "[encoded data removed]",
      "text/plain": [
       "<Figure size 2000x400 with 20 Axes>"
      ]
     },
     "metadata": {},
     "output_type": "display_data"
    }
   ],
   "source": [
    "decoded_imgs = autoencoder.predict(x_test)\n",
    "\n",
    "n = 10\n",
    "plt.figure(figsize=(20, 4))\n",
    "for i in range(1, n + 1):\n",
    "    # Display original\n",
    "    ax = plt.subplot(2, n, i)\n",
    "    plt.imshow(x_test[i].reshape(28, 28))\n",
    "    plt.gray()\n",
    "    ax.get_xaxis().set_visible(False)\n",
    "    ax.get_yaxis().set_visible(False)\n",
    "\n",
    "    # Display reconstruction\n",
    "    ax = plt.subplot(2, n, i + n)\n",
    "    plt.imshow(decoded_imgs[i].reshape(28, 28))\n",
    "    plt.gray()\n",
    "    ax.get_xaxis().set_visible(False)\n",
    "    ax.get_yaxis().set_visible(False)\n",
    "plt.show()"
   ]
  },
  {
   "cell_type": "markdown",
   "id": "670055fd",
   "metadata": {},
   "source": [
    "<hr>"
   ]
  },
  {
   "cell_type": "markdown",
   "id": "3de022bb",
   "metadata": {},
   "source": [
    "### Recommendation System using AE"
   ]
  },
  {
   "cell_type": "code",
   "execution_count": 28,
   "id": "15041e9c",
   "metadata": {},
   "outputs": [],
   "source": [
    "movies = pd.read_csv('movies.csv')"
   ]
  },
  {
   "cell_type": "code",
   "execution_count": 29,
   "id": "f183dd9e",
   "metadata": {
    "scrolled": true
   },
   "outputs": [
    {
     "data": {
      "text/html": [
       "<div>\n",
       "<style scoped>\n",
       "    .dataframe tbody tr th:only-of-type {\n",
       "        vertical-align: middle;\n",
       "    }\n",
       "\n",
       "    .dataframe tbody tr th {\n",
       "        vertical-align: top;\n",
       "    }\n",
       "\n",
       "    .dataframe thead th {\n",
       "        text-align: right;\n",
       "    }\n",
       "</style>\n",
       "<table border=\"1\" class=\"dataframe\">\n",
       "  <thead>\n",
       "    <tr style=\"text-align: right;\">\n",
       "      <th></th>\n",
       "      <th>movieId</th>\n",
       "      <th>title</th>\n",
       "      <th>genres</th>\n",
       "    </tr>\n",
       "  </thead>\n",
       "  <tbody>\n",
       "    <tr>\n",
       "      <th>0</th>\n",
       "      <td>1</td>\n",
       "      <td>Toy Story (1995)</td>\n",
       "      <td>Adventure|Animation|Children|Comedy|Fantasy</td>\n",
       "    </tr>\n",
       "    <tr>\n",
       "      <th>1</th>\n",
       "      <td>2</td>\n",
       "      <td>Jumanji (1995)</td>\n",
       "      <td>Adventure|Children|Fantasy</td>\n",
       "    </tr>\n",
       "    <tr>\n",
       "      <th>2</th>\n",
       "      <td>3</td>\n",
       "      <td>Grumpier Old Men (1995)</td>\n",
       "      <td>Comedy|Romance</td>\n",
       "    </tr>\n",
       "    <tr>\n",
       "      <th>3</th>\n",
       "      <td>4</td>\n",
       "      <td>Waiting to Exhale (1995)</td>\n",
       "      <td>Comedy|Drama|Romance</td>\n",
       "    </tr>\n",
       "    <tr>\n",
       "      <th>4</th>\n",
       "      <td>5</td>\n",
       "      <td>Father of the Bride Part II (1995)</td>\n",
       "      <td>Comedy</td>\n",
       "    </tr>\n",
       "  </tbody>\n",
       "</table>\n",
       "</div>"
      ],
      "text/plain": [
       "   movieId                               title  \\\n",
       "0        1                    Toy Story (1995)   \n",
       "1        2                      Jumanji (1995)   \n",
       "2        3             Grumpier Old Men (1995)   \n",
       "3        4            Waiting to Exhale (1995)   \n",
       "4        5  Father of the Bride Part II (1995)   \n",
       "\n",
       "                                        genres  \n",
       "0  Adventure|Animation|Children|Comedy|Fantasy  \n",
       "1                   Adventure|Children|Fantasy  \n",
       "2                               Comedy|Romance  \n",
       "3                         Comedy|Drama|Romance  \n",
       "4                                       Comedy  "
      ]
     },
     "execution_count": 29,
     "metadata": {},
     "output_type": "execute_result"
    }
   ],
   "source": [
    "movies.head()"
   ]
  },
  {
   "cell_type": "code",
   "execution_count": 33,
   "id": "2b3ba642",
   "metadata": {},
   "outputs": [
    {
     "data": {
      "text/plain": [
       "(10329, 3)"
      ]
     },
     "execution_count": 33,
     "metadata": {},
     "output_type": "execute_result"
    }
   ],
   "source": [
    "movies.shape"
   ]
  },
  {
   "cell_type": "code",
   "execution_count": 30,
   "id": "e1caa11a",
   "metadata": {},
   "outputs": [],
   "source": [
    "ratings = pd.read_csv('ratings.csv')"
   ]
  },
  {
   "cell_type": "code",
   "execution_count": 31,
   "id": "f7fe4098",
   "metadata": {},
   "outputs": [
    {
     "data": {
      "text/html": [
       "<div>\n",
       "<style scoped>\n",
       "    .dataframe tbody tr th:only-of-type {\n",
       "        vertical-align: middle;\n",
       "    }\n",
       "\n",
       "    .dataframe tbody tr th {\n",
       "        vertical-align: top;\n",
       "    }\n",
       "\n",
       "    .dataframe thead th {\n",
       "        text-align: right;\n",
       "    }\n",
       "</style>\n",
       "<table border=\"1\" class=\"dataframe\">\n",
       "  <thead>\n",
       "    <tr style=\"text-align: right;\">\n",
       "      <th></th>\n",
       "      <th>userId</th>\n",
       "      <th>movieId</th>\n",
       "      <th>rating</th>\n",
       "      <th>timestamp</th>\n",
       "    </tr>\n",
       "  </thead>\n",
       "  <tbody>\n",
       "    <tr>\n",
       "      <th>0</th>\n",
       "      <td>1</td>\n",
       "      <td>16</td>\n",
       "      <td>4.0</td>\n",
       "      <td>1217897793</td>\n",
       "    </tr>\n",
       "    <tr>\n",
       "      <th>1</th>\n",
       "      <td>1</td>\n",
       "      <td>24</td>\n",
       "      <td>1.5</td>\n",
       "      <td>1217895807</td>\n",
       "    </tr>\n",
       "    <tr>\n",
       "      <th>2</th>\n",
       "      <td>1</td>\n",
       "      <td>32</td>\n",
       "      <td>4.0</td>\n",
       "      <td>1217896246</td>\n",
       "    </tr>\n",
       "    <tr>\n",
       "      <th>3</th>\n",
       "      <td>1</td>\n",
       "      <td>47</td>\n",
       "      <td>4.0</td>\n",
       "      <td>1217896556</td>\n",
       "    </tr>\n",
       "    <tr>\n",
       "      <th>4</th>\n",
       "      <td>1</td>\n",
       "      <td>50</td>\n",
       "      <td>4.0</td>\n",
       "      <td>1217896523</td>\n",
       "    </tr>\n",
       "  </tbody>\n",
       "</table>\n",
       "</div>"
      ],
      "text/plain": [
       "   userId  movieId  rating   timestamp\n",
       "0       1       16     4.0  1217897793\n",
       "1       1       24     1.5  1217895807\n",
       "2       1       32     4.0  1217896246\n",
       "3       1       47     4.0  1217896556\n",
       "4       1       50     4.0  1217896523"
      ]
     },
     "execution_count": 31,
     "metadata": {},
     "output_type": "execute_result"
    }
   ],
   "source": [
    "ratings.head()"
   ]
  },
  {
   "cell_type": "code",
   "execution_count": 34,
   "id": "71e286db",
   "metadata": {},
   "outputs": [
    {
     "data": {
      "text/plain": [
       "(105339, 4)"
      ]
     },
     "execution_count": 34,
     "metadata": {},
     "output_type": "execute_result"
    }
   ],
   "source": [
    "ratings.shape"
   ]
  },
  {
   "cell_type": "markdown",
   "id": "e7c019de",
   "metadata": {},
   "source": [
    "#### Creating a user-item iteraction matrix where:\n",
    "- Each row represents the user\n",
    "- Columns represents the movie ratings by user\n",
    "- This iteraction matrix is sparse"
   ]
  },
  {
   "cell_type": "code",
   "execution_count": 71,
   "id": "b8146e2a",
   "metadata": {
    "scrolled": true
   },
   "outputs": [
    {
     "data": {
      "text/html": [
       "<div>\n",
       "<style scoped>\n",
       "    .dataframe tbody tr th:only-of-type {\n",
       "        vertical-align: middle;\n",
       "    }\n",
       "\n",
       "    .dataframe tbody tr th {\n",
       "        vertical-align: top;\n",
       "    }\n",
       "\n",
       "    .dataframe thead th {\n",
       "        text-align: right;\n",
       "    }\n",
       "</style>\n",
       "<table border=\"1\" class=\"dataframe\">\n",
       "  <thead>\n",
       "    <tr style=\"text-align: right;\">\n",
       "      <th>userId</th>\n",
       "      <th>1</th>\n",
       "      <th>2</th>\n",
       "      <th>3</th>\n",
       "      <th>4</th>\n",
       "      <th>5</th>\n",
       "      <th>6</th>\n",
       "      <th>7</th>\n",
       "      <th>8</th>\n",
       "      <th>9</th>\n",
       "      <th>10</th>\n",
       "      <th>...</th>\n",
       "      <th>659</th>\n",
       "      <th>660</th>\n",
       "      <th>661</th>\n",
       "      <th>662</th>\n",
       "      <th>663</th>\n",
       "      <th>664</th>\n",
       "      <th>665</th>\n",
       "      <th>666</th>\n",
       "      <th>667</th>\n",
       "      <th>668</th>\n",
       "    </tr>\n",
       "    <tr>\n",
       "      <th>movieId</th>\n",
       "      <th></th>\n",
       "      <th></th>\n",
       "      <th></th>\n",
       "      <th></th>\n",
       "      <th></th>\n",
       "      <th></th>\n",
       "      <th></th>\n",
       "      <th></th>\n",
       "      <th></th>\n",
       "      <th></th>\n",
       "      <th></th>\n",
       "      <th></th>\n",
       "      <th></th>\n",
       "      <th></th>\n",
       "      <th></th>\n",
       "      <th></th>\n",
       "      <th></th>\n",
       "      <th></th>\n",
       "      <th></th>\n",
       "      <th></th>\n",
       "      <th></th>\n",
       "    </tr>\n",
       "  </thead>\n",
       "  <tbody>\n",
       "    <tr>\n",
       "      <th>1</th>\n",
       "      <td>0.0</td>\n",
       "      <td>5.0</td>\n",
       "      <td>0.0</td>\n",
       "      <td>0.0</td>\n",
       "      <td>4.0</td>\n",
       "      <td>0.0</td>\n",
       "      <td>0.0</td>\n",
       "      <td>5.0</td>\n",
       "      <td>0.0</td>\n",
       "      <td>0.0</td>\n",
       "      <td>...</td>\n",
       "      <td>0.0</td>\n",
       "      <td>0.0</td>\n",
       "      <td>4.0</td>\n",
       "      <td>5.0</td>\n",
       "      <td>3.0</td>\n",
       "      <td>0.0</td>\n",
       "      <td>0.0</td>\n",
       "      <td>0.0</td>\n",
       "      <td>0.0</td>\n",
       "      <td>3.0</td>\n",
       "    </tr>\n",
       "    <tr>\n",
       "      <th>2</th>\n",
       "      <td>0.0</td>\n",
       "      <td>0.0</td>\n",
       "      <td>0.0</td>\n",
       "      <td>0.0</td>\n",
       "      <td>0.0</td>\n",
       "      <td>0.0</td>\n",
       "      <td>0.0</td>\n",
       "      <td>0.0</td>\n",
       "      <td>0.0</td>\n",
       "      <td>0.0</td>\n",
       "      <td>...</td>\n",
       "      <td>0.0</td>\n",
       "      <td>0.0</td>\n",
       "      <td>0.0</td>\n",
       "      <td>5.0</td>\n",
       "      <td>0.0</td>\n",
       "      <td>0.0</td>\n",
       "      <td>0.0</td>\n",
       "      <td>0.0</td>\n",
       "      <td>0.0</td>\n",
       "      <td>3.0</td>\n",
       "    </tr>\n",
       "    <tr>\n",
       "      <th>3</th>\n",
       "      <td>0.0</td>\n",
       "      <td>2.0</td>\n",
       "      <td>0.0</td>\n",
       "      <td>0.0</td>\n",
       "      <td>0.0</td>\n",
       "      <td>0.0</td>\n",
       "      <td>0.0</td>\n",
       "      <td>4.0</td>\n",
       "      <td>3.0</td>\n",
       "      <td>0.0</td>\n",
       "      <td>...</td>\n",
       "      <td>0.0</td>\n",
       "      <td>0.0</td>\n",
       "      <td>3.0</td>\n",
       "      <td>0.0</td>\n",
       "      <td>0.0</td>\n",
       "      <td>0.0</td>\n",
       "      <td>0.0</td>\n",
       "      <td>0.0</td>\n",
       "      <td>0.0</td>\n",
       "      <td>2.0</td>\n",
       "    </tr>\n",
       "    <tr>\n",
       "      <th>4</th>\n",
       "      <td>0.0</td>\n",
       "      <td>0.0</td>\n",
       "      <td>0.0</td>\n",
       "      <td>0.0</td>\n",
       "      <td>0.0</td>\n",
       "      <td>0.0</td>\n",
       "      <td>0.0</td>\n",
       "      <td>0.0</td>\n",
       "      <td>0.0</td>\n",
       "      <td>0.0</td>\n",
       "      <td>...</td>\n",
       "      <td>0.0</td>\n",
       "      <td>0.0</td>\n",
       "      <td>0.0</td>\n",
       "      <td>0.0</td>\n",
       "      <td>0.0</td>\n",
       "      <td>0.0</td>\n",
       "      <td>0.0</td>\n",
       "      <td>0.0</td>\n",
       "      <td>0.0</td>\n",
       "      <td>0.0</td>\n",
       "    </tr>\n",
       "    <tr>\n",
       "      <th>5</th>\n",
       "      <td>0.0</td>\n",
       "      <td>3.0</td>\n",
       "      <td>3.0</td>\n",
       "      <td>0.0</td>\n",
       "      <td>0.0</td>\n",
       "      <td>0.0</td>\n",
       "      <td>0.0</td>\n",
       "      <td>3.0</td>\n",
       "      <td>0.0</td>\n",
       "      <td>0.0</td>\n",
       "      <td>...</td>\n",
       "      <td>0.0</td>\n",
       "      <td>0.0</td>\n",
       "      <td>3.0</td>\n",
       "      <td>0.0</td>\n",
       "      <td>0.0</td>\n",
       "      <td>0.0</td>\n",
       "      <td>0.0</td>\n",
       "      <td>0.0</td>\n",
       "      <td>0.0</td>\n",
       "      <td>2.5</td>\n",
       "    </tr>\n",
       "  </tbody>\n",
       "</table>\n",
       "<p>5 rows × 668 columns</p>\n",
       "</div>"
      ],
      "text/plain": [
       "userId   1    2    3    4    5    6    7    8    9    10   ...  659  660  661  \\\n",
       "movieId                                                    ...                  \n",
       "1        0.0  5.0  0.0  0.0  4.0  0.0  0.0  5.0  0.0  0.0  ...  0.0  0.0  4.0   \n",
       "2        0.0  0.0  0.0  0.0  0.0  0.0  0.0  0.0  0.0  0.0  ...  0.0  0.0  0.0   \n",
       "3        0.0  2.0  0.0  0.0  0.0  0.0  0.0  4.0  3.0  0.0  ...  0.0  0.0  3.0   \n",
       "4        0.0  0.0  0.0  0.0  0.0  0.0  0.0  0.0  0.0  0.0  ...  0.0  0.0  0.0   \n",
       "5        0.0  3.0  3.0  0.0  0.0  0.0  0.0  3.0  0.0  0.0  ...  0.0  0.0  3.0   \n",
       "\n",
       "userId   662  663  664  665  666  667  668  \n",
       "movieId                                     \n",
       "1        5.0  3.0  0.0  0.0  0.0  0.0  3.0  \n",
       "2        5.0  0.0  0.0  0.0  0.0  0.0  3.0  \n",
       "3        0.0  0.0  0.0  0.0  0.0  0.0  2.0  \n",
       "4        0.0  0.0  0.0  0.0  0.0  0.0  0.0  \n",
       "5        0.0  0.0  0.0  0.0  0.0  0.0  2.5  \n",
       "\n",
       "[5 rows x 668 columns]"
      ]
     },
     "execution_count": 71,
     "metadata": {},
     "output_type": "execute_result"
    }
   ],
   "source": [
    "rm = ratings.pivot(index = 'movieId', columns ='userId', values = 'rating').fillna(0)\n",
    "rm.head()"
   ]
  },
  {
   "cell_type": "code",
   "execution_count": 72,
   "id": "f52c9ef1",
   "metadata": {},
   "outputs": [
    {
     "data": {
      "text/plain": [
       "(10325, 668)"
      ]
     },
     "execution_count": 72,
     "metadata": {},
     "output_type": "execute_result"
    }
   ],
   "source": [
    "rm.shape"
   ]
  },
  {
   "cell_type": "markdown",
   "id": "d1e90f2d",
   "metadata": {},
   "source": [
    "- use these item vectors (movie ratings) as an input to AE to learn a dense embeddings\n",
    "- use these embeddings to find similar movies"
   ]
  },
  {
   "cell_type": "code",
   "execution_count": 73,
   "id": "566a9d20",
   "metadata": {},
   "outputs": [],
   "source": [
    "from sklearn.model_selection import train_test_split"
   ]
  },
  {
   "cell_type": "code",
   "execution_count": 39,
   "id": "f4f65031",
   "metadata": {},
   "outputs": [],
   "source": [
    "train_data, val_data = train_test_split(rm, test_size = 0.2, random_state=0)"
   ]
  },
  {
   "cell_type": "code",
   "execution_count": 40,
   "id": "17bd3b88",
   "metadata": {},
   "outputs": [
    {
     "data": {
      "text/plain": [
       "(8260, 668)"
      ]
     },
     "execution_count": 40,
     "metadata": {},
     "output_type": "execute_result"
    }
   ],
   "source": [
    "train_data.shape"
   ]
  },
  {
   "cell_type": "code",
   "execution_count": 41,
   "id": "cbaa5cfb",
   "metadata": {},
   "outputs": [
    {
     "data": {
      "text/plain": [
       "(2065, 668)"
      ]
     },
     "execution_count": 41,
     "metadata": {},
     "output_type": "execute_result"
    }
   ],
   "source": [
    "val_data.shape"
   ]
  },
  {
   "cell_type": "markdown",
   "id": "cc046807",
   "metadata": {},
   "source": [
    "**AutoEncoder Model**"
   ]
  },
  {
   "cell_type": "code",
   "execution_count": 42,
   "id": "a7f18f16",
   "metadata": {},
   "outputs": [],
   "source": [
    "# Input Layer\n",
    "input_movie = keras.Input(shape=(668,))\n",
    "\n",
    "# Encoding\n",
    "encoded1 = layers.Dense(512, activation='relu')(input_movie)\n",
    "encoded2 = layers.Dense(256, activation='relu')(encoded1)\n",
    "\n",
    "# Bottleneck Layer\n",
    "encoded3 = layers.Dense(128, activation='relu')(encoded2)\n",
    "\n",
    "# Decoding\n",
    "decoded1 = layers.Dense(256, activation='relu')(encoded3)\n",
    "decoded2 = layers.Dense(512, activation='relu')(decoded1)\n",
    "\n",
    "# Output Layer\n",
    "output_decoded = layers.Dense(668, activation='linear')(decoded2)"
   ]
  },
  {
   "cell_type": "code",
   "execution_count": 43,
   "id": "ac762232",
   "metadata": {},
   "outputs": [],
   "source": [
    "autoencoder = keras.Model(input_movie, output_decoded)\n",
    "\n",
    "autoencoder.compile(optimizer='adam', \n",
    "                    loss='mean_squared_error')"
   ]
  },
  {
   "cell_type": "code",
   "execution_count": 44,
   "id": "aff5b762",
   "metadata": {},
   "outputs": [
    {
     "name": "stdout",
     "output_type": "stream",
     "text": [
      "Epoch 1/10\n",
      "33/33 [==============================] - 3s 44ms/step - loss: 0.1724 - val_loss: 0.1496\n",
      "Epoch 2/10\n",
      "33/33 [==============================] - 2s 47ms/step - loss: 0.1484 - val_loss: 0.1330\n",
      "Epoch 3/10\n",
      "33/33 [==============================] - 2s 49ms/step - loss: 0.1342 - val_loss: 0.1241\n",
      "Epoch 4/10\n",
      "33/33 [==============================] - 1s 44ms/step - loss: 0.1245 - val_loss: 0.1184\n",
      "Epoch 5/10\n",
      "33/33 [==============================] - 1s 37ms/step - loss: 0.1171 - val_loss: 0.1129\n",
      "Epoch 6/10\n",
      "33/33 [==============================] - 1s 40ms/step - loss: 0.1099 - val_loss: 0.1089\n",
      "Epoch 7/10\n",
      "33/33 [==============================] - 1s 37ms/step - loss: 0.1041 - val_loss: 0.1059\n",
      "Epoch 8/10\n",
      "33/33 [==============================] - 1s 37ms/step - loss: 0.0993 - val_loss: 0.1033\n",
      "Epoch 9/10\n",
      "33/33 [==============================] - 1s 38ms/step - loss: 0.0963 - val_loss: 0.1008\n",
      "Epoch 10/10\n",
      "33/33 [==============================] - 2s 51ms/step - loss: 0.0922 - val_loss: 0.0991\n"
     ]
    },
    {
     "data": {
      "text/plain": [
       "<keras.src.callbacks.History at 0x1eb8eb43a50>"
      ]
     },
     "execution_count": 44,
     "metadata": {},
     "output_type": "execute_result"
    }
   ],
   "source": [
    "autoencoder.fit(train_data, train_data,\n",
    "                epochs=10,\n",
    "                batch_size=256,\n",
    "                shuffle=True,\n",
    "                validation_data=(val_data, val_data))"
   ]
  },
  {
   "cell_type": "code",
   "execution_count": 45,
   "id": "fa822323",
   "metadata": {},
   "outputs": [
    {
     "name": "stdout",
     "output_type": "stream",
     "text": [
      "Model: \"model_1\"\n",
      "_________________________________________________________________\n",
      " Layer (type)                Output Shape              Param #   \n",
      "=================================================================\n",
      " input_2 (InputLayer)        [(None, 668)]             0         \n",
      "                                                                 \n",
      " dense_6 (Dense)             (None, 512)               342528    \n",
      "                                                                 \n",
      " dense_7 (Dense)             (None, 256)               131328    \n",
      "                                                                 \n",
      " dense_8 (Dense)             (None, 128)               32896     \n",
      "                                                                 \n",
      " dense_9 (Dense)             (None, 256)               33024     \n",
      "                                                                 \n",
      " dense_10 (Dense)            (None, 512)               131584    \n",
      "                                                                 \n",
      " dense_11 (Dense)            (None, 668)               342684    \n",
      "                                                                 \n",
      "=================================================================\n",
      "Total params: 1014044 (3.87 MB)\n",
      "Trainable params: 1014044 (3.87 MB)\n",
      "Non-trainable params: 0 (0.00 Byte)\n",
      "_________________________________________________________________\n"
     ]
    }
   ],
   "source": [
    "autoencoder.summary()"
   ]
  },
  {
   "cell_type": "code",
   "execution_count": 46,
   "id": "68e64dd1",
   "metadata": {},
   "outputs": [
    {
     "data": {
      "text/plain": [
       "[<keras.src.engine.input_layer.InputLayer at 0x1eb8ea2f150>,\n",
       " <keras.src.layers.core.dense.Dense at 0x1eb8e947e50>,\n",
       " <keras.src.layers.core.dense.Dense at 0x1eb8e944e50>,\n",
       " <keras.src.layers.core.dense.Dense at 0x1eb8e27bf50>,\n",
       " <keras.src.layers.core.dense.Dense at 0x1eb8ea2cf10>,\n",
       " <keras.src.layers.core.dense.Dense at 0x1ebf39ba610>,\n",
       " <keras.src.layers.core.dense.Dense at 0x1ebf39f6590>]"
      ]
     },
     "execution_count": 46,
     "metadata": {},
     "output_type": "execute_result"
    }
   ],
   "source": [
    "autoencoder.layers"
   ]
  },
  {
   "cell_type": "code",
   "execution_count": 47,
   "id": "9f697144",
   "metadata": {},
   "outputs": [
    {
     "data": {
      "text/plain": [
       "<KerasTensor: shape=(None, 128) dtype=float32 (created by layer 'dense_8')>"
      ]
     },
     "execution_count": 47,
     "metadata": {},
     "output_type": "execute_result"
    }
   ],
   "source": [
    "autoencoder.layers[3].output"
   ]
  },
  {
   "cell_type": "code",
   "execution_count": 48,
   "id": "17343c06",
   "metadata": {},
   "outputs": [
    {
     "data": {
      "text/plain": [
       "<KerasTensor: shape=(None, 668) dtype=float32 (created by layer 'input_2')>"
      ]
     },
     "execution_count": 48,
     "metadata": {},
     "output_type": "execute_result"
    }
   ],
   "source": [
    "autoencoder.input"
   ]
  },
  {
   "cell_type": "markdown",
   "id": "6f8e126a",
   "metadata": {},
   "source": [
    "Layer number 4 returns the latent space emebddings. Let's create a model with input as model input and\n",
    "output as layer 4 output"
   ]
  },
  {
   "cell_type": "code",
   "execution_count": 49,
   "id": "06b24600",
   "metadata": {},
   "outputs": [],
   "source": [
    "intermediate_model = keras.Model(autoencoder.input, autoencoder.layers[3].output)"
   ]
  },
  {
   "cell_type": "markdown",
   "id": "c75c9a41",
   "metadata": {},
   "source": [
    "Predicting embeddings for all movies"
   ]
  },
  {
   "cell_type": "code",
   "execution_count": 50,
   "id": "943de77e",
   "metadata": {
    "scrolled": true
   },
   "outputs": [
    {
     "name": "stdout",
     "output_type": "stream",
     "text": [
      "323/323 [==============================] - 1s 3ms/step\n"
     ]
    }
   ],
   "source": [
    "embeddings = intermediate_model.predict(rm.values)"
   ]
  },
  {
   "cell_type": "code",
   "execution_count": 51,
   "id": "a281f43d",
   "metadata": {},
   "outputs": [
    {
     "data": {
      "text/plain": [
       "array([[0.        , 0.        , 0.        , ..., 0.        , 0.        ,\n",
       "        0.        ],\n",
       "       [0.        , 0.        , 0.        , ..., 0.        , 0.        ,\n",
       "        3.8193123 ],\n",
       "       [0.        , 0.        , 0.        , ..., 0.        , 0.        ,\n",
       "        1.5940466 ],\n",
       "       ...,\n",
       "       [0.        , 0.45088285, 0.        , ..., 0.        , 0.        ,\n",
       "        0.66704947],\n",
       "       [0.        , 0.        , 0.        , ..., 0.        , 0.        ,\n",
       "        1.0435795 ],\n",
       "       [0.        , 0.6041781 , 0.        , ..., 0.        , 0.        ,\n",
       "        0.88007325]], dtype=float32)"
      ]
     },
     "execution_count": 51,
     "metadata": {},
     "output_type": "execute_result"
    }
   ],
   "source": [
    "embeddings"
   ]
  },
  {
   "cell_type": "code",
   "execution_count": 60,
   "id": "b704d88b",
   "metadata": {},
   "outputs": [
    {
     "data": {
      "text/plain": [
       "(10325, 128)"
      ]
     },
     "execution_count": 60,
     "metadata": {},
     "output_type": "execute_result"
    }
   ],
   "source": [
    "embeddings.shape"
   ]
  },
  {
   "cell_type": "markdown",
   "id": "2472e441",
   "metadata": {},
   "source": [
    "Finding similar movies using cosine similarity"
   ]
  },
  {
   "cell_type": "code",
   "execution_count": 61,
   "id": "8168f85c",
   "metadata": {},
   "outputs": [],
   "source": [
    "from sklearn.metrics.pairwise import cosine_similarity"
   ]
  },
  {
   "cell_type": "code",
   "execution_count": 62,
   "id": "400a53cc",
   "metadata": {},
   "outputs": [],
   "source": [
    "similarity_matrix = cosine_similarity(embeddings)"
   ]
  },
  {
   "cell_type": "code",
   "execution_count": 63,
   "id": "46907028",
   "metadata": {},
   "outputs": [
    {
     "data": {
      "text/plain": [
       "(10325, 10325)"
      ]
     },
     "execution_count": 63,
     "metadata": {},
     "output_type": "execute_result"
    }
   ],
   "source": [
    "similarity_matrix.shape"
   ]
  },
  {
   "cell_type": "markdown",
   "id": "b13bea0f",
   "metadata": {},
   "source": [
    "Creating an Item-Item Similarity Matrix"
   ]
  },
  {
   "cell_type": "code",
   "execution_count": 64,
   "id": "e893a5bd",
   "metadata": {},
   "outputs": [
    {
     "data": {
      "text/html": [
       "<div>\n",
       "<style scoped>\n",
       "    .dataframe tbody tr th:only-of-type {\n",
       "        vertical-align: middle;\n",
       "    }\n",
       "\n",
       "    .dataframe tbody tr th {\n",
       "        vertical-align: top;\n",
       "    }\n",
       "\n",
       "    .dataframe thead th {\n",
       "        text-align: right;\n",
       "    }\n",
       "</style>\n",
       "<table border=\"1\" class=\"dataframe\">\n",
       "  <thead>\n",
       "    <tr style=\"text-align: right;\">\n",
       "      <th>movieId</th>\n",
       "      <th>1</th>\n",
       "      <th>2</th>\n",
       "      <th>3</th>\n",
       "      <th>4</th>\n",
       "      <th>5</th>\n",
       "      <th>6</th>\n",
       "      <th>7</th>\n",
       "      <th>8</th>\n",
       "      <th>9</th>\n",
       "      <th>10</th>\n",
       "      <th>...</th>\n",
       "      <th>144482</th>\n",
       "      <th>144656</th>\n",
       "      <th>144976</th>\n",
       "      <th>146344</th>\n",
       "      <th>146656</th>\n",
       "      <th>146684</th>\n",
       "      <th>146878</th>\n",
       "      <th>148238</th>\n",
       "      <th>148626</th>\n",
       "      <th>149532</th>\n",
       "    </tr>\n",
       "    <tr>\n",
       "      <th>movieId</th>\n",
       "      <th></th>\n",
       "      <th></th>\n",
       "      <th></th>\n",
       "      <th></th>\n",
       "      <th></th>\n",
       "      <th></th>\n",
       "      <th></th>\n",
       "      <th></th>\n",
       "      <th></th>\n",
       "      <th></th>\n",
       "      <th></th>\n",
       "      <th></th>\n",
       "      <th></th>\n",
       "      <th></th>\n",
       "      <th></th>\n",
       "      <th></th>\n",
       "      <th></th>\n",
       "      <th></th>\n",
       "      <th></th>\n",
       "      <th></th>\n",
       "      <th></th>\n",
       "    </tr>\n",
       "  </thead>\n",
       "  <tbody>\n",
       "    <tr>\n",
       "      <th>1</th>\n",
       "      <td>1.000000</td>\n",
       "      <td>0.714028</td>\n",
       "      <td>0.736896</td>\n",
       "      <td>0.542581</td>\n",
       "      <td>0.712317</td>\n",
       "      <td>0.670496</td>\n",
       "      <td>0.658021</td>\n",
       "      <td>0.603213</td>\n",
       "      <td>0.625018</td>\n",
       "      <td>0.637886</td>\n",
       "      <td>...</td>\n",
       "      <td>0.528715</td>\n",
       "      <td>0.426004</td>\n",
       "      <td>0.456706</td>\n",
       "      <td>0.433040</td>\n",
       "      <td>0.489409</td>\n",
       "      <td>0.524650</td>\n",
       "      <td>0.529236</td>\n",
       "      <td>0.427663</td>\n",
       "      <td>0.497029</td>\n",
       "      <td>0.424688</td>\n",
       "    </tr>\n",
       "    <tr>\n",
       "      <th>2</th>\n",
       "      <td>0.714028</td>\n",
       "      <td>1.000000</td>\n",
       "      <td>0.689328</td>\n",
       "      <td>0.716729</td>\n",
       "      <td>0.710566</td>\n",
       "      <td>0.737752</td>\n",
       "      <td>0.729529</td>\n",
       "      <td>0.735506</td>\n",
       "      <td>0.624640</td>\n",
       "      <td>0.827560</td>\n",
       "      <td>...</td>\n",
       "      <td>0.587612</td>\n",
       "      <td>0.647083</td>\n",
       "      <td>0.643744</td>\n",
       "      <td>0.655272</td>\n",
       "      <td>0.628858</td>\n",
       "      <td>0.564322</td>\n",
       "      <td>0.570149</td>\n",
       "      <td>0.648975</td>\n",
       "      <td>0.663714</td>\n",
       "      <td>0.645593</td>\n",
       "    </tr>\n",
       "    <tr>\n",
       "      <th>3</th>\n",
       "      <td>0.736896</td>\n",
       "      <td>0.689328</td>\n",
       "      <td>1.000000</td>\n",
       "      <td>0.722049</td>\n",
       "      <td>0.886199</td>\n",
       "      <td>0.734607</td>\n",
       "      <td>0.803431</td>\n",
       "      <td>0.751936</td>\n",
       "      <td>0.802492</td>\n",
       "      <td>0.638401</td>\n",
       "      <td>...</td>\n",
       "      <td>0.499967</td>\n",
       "      <td>0.517638</td>\n",
       "      <td>0.540817</td>\n",
       "      <td>0.516692</td>\n",
       "      <td>0.523667</td>\n",
       "      <td>0.501639</td>\n",
       "      <td>0.499927</td>\n",
       "      <td>0.517463</td>\n",
       "      <td>0.581531</td>\n",
       "      <td>0.517736</td>\n",
       "    </tr>\n",
       "    <tr>\n",
       "      <th>4</th>\n",
       "      <td>0.542581</td>\n",
       "      <td>0.716729</td>\n",
       "      <td>0.722049</td>\n",
       "      <td>1.000000</td>\n",
       "      <td>0.682362</td>\n",
       "      <td>0.739619</td>\n",
       "      <td>0.734447</td>\n",
       "      <td>0.814832</td>\n",
       "      <td>0.714632</td>\n",
       "      <td>0.710570</td>\n",
       "      <td>...</td>\n",
       "      <td>0.656374</td>\n",
       "      <td>0.678699</td>\n",
       "      <td>0.698111</td>\n",
       "      <td>0.682624</td>\n",
       "      <td>0.684883</td>\n",
       "      <td>0.626131</td>\n",
       "      <td>0.628695</td>\n",
       "      <td>0.679696</td>\n",
       "      <td>0.687417</td>\n",
       "      <td>0.677916</td>\n",
       "    </tr>\n",
       "    <tr>\n",
       "      <th>5</th>\n",
       "      <td>0.712317</td>\n",
       "      <td>0.710566</td>\n",
       "      <td>0.886199</td>\n",
       "      <td>0.682362</td>\n",
       "      <td>1.000000</td>\n",
       "      <td>0.673494</td>\n",
       "      <td>0.873929</td>\n",
       "      <td>0.746572</td>\n",
       "      <td>0.687457</td>\n",
       "      <td>0.575585</td>\n",
       "      <td>...</td>\n",
       "      <td>0.492587</td>\n",
       "      <td>0.509226</td>\n",
       "      <td>0.528676</td>\n",
       "      <td>0.510624</td>\n",
       "      <td>0.504820</td>\n",
       "      <td>0.475755</td>\n",
       "      <td>0.475684</td>\n",
       "      <td>0.509549</td>\n",
       "      <td>0.570064</td>\n",
       "      <td>0.508982</td>\n",
       "    </tr>\n",
       "  </tbody>\n",
       "</table>\n",
       "<p>5 rows × 10325 columns</p>\n",
       "</div>"
      ],
      "text/plain": [
       "movieId    1         2         3         4         5         6         7       \\\n",
       "movieId                                                                         \n",
       "1        1.000000  0.714028  0.736896  0.542581  0.712317  0.670496  0.658021   \n",
       "2        0.714028  1.000000  0.689328  0.716729  0.710566  0.737752  0.729529   \n",
       "3        0.736896  0.689328  1.000000  0.722049  0.886199  0.734607  0.803431   \n",
       "4        0.542581  0.716729  0.722049  1.000000  0.682362  0.739619  0.734447   \n",
       "5        0.712317  0.710566  0.886199  0.682362  1.000000  0.673494  0.873929   \n",
       "\n",
       "movieId    8         9         10      ...    144482    144656    144976  \\\n",
       "movieId                                ...                                 \n",
       "1        0.603213  0.625018  0.637886  ...  0.528715  0.426004  0.456706   \n",
       "2        0.735506  0.624640  0.827560  ...  0.587612  0.647083  0.643744   \n",
       "3        0.751936  0.802492  0.638401  ...  0.499967  0.517638  0.540817   \n",
       "4        0.814832  0.714632  0.710570  ...  0.656374  0.678699  0.698111   \n",
       "5        0.746572  0.687457  0.575585  ...  0.492587  0.509226  0.528676   \n",
       "\n",
       "movieId    146344    146656    146684    146878    148238    148626    149532  \n",
       "movieId                                                                        \n",
       "1        0.433040  0.489409  0.524650  0.529236  0.427663  0.497029  0.424688  \n",
       "2        0.655272  0.628858  0.564322  0.570149  0.648975  0.663714  0.645593  \n",
       "3        0.516692  0.523667  0.501639  0.499927  0.517463  0.581531  0.517736  \n",
       "4        0.682624  0.684883  0.626131  0.628695  0.679696  0.687417  0.677916  \n",
       "5        0.510624  0.504820  0.475755  0.475684  0.509549  0.570064  0.508982  \n",
       "\n",
       "[5 rows x 10325 columns]"
      ]
     },
     "execution_count": 64,
     "metadata": {},
     "output_type": "execute_result"
    }
   ],
   "source": [
    "item_sim_matrix = pd.DataFrame(similarity_matrix, index=rm.index, columns=rm.index)\n",
    "item_sim_matrix.head()"
   ]
  },
  {
   "cell_type": "markdown",
   "id": "c765f7eb",
   "metadata": {},
   "source": [
    "Take a random movie at index 1485 and finding top 10 similar movies "
   ]
  },
  {
   "cell_type": "code",
   "execution_count": 67,
   "id": "1c1bd090",
   "metadata": {
    "scrolled": true
   },
   "outputs": [
    {
     "data": {
      "text/plain": [
       "movieId\n",
       "1485    1.000000\n",
       "1517    0.913099\n",
       "2321    0.906077\n",
       "1407    0.904971\n",
       "1391    0.903956\n",
       "1722    0.901690\n",
       "1608    0.900118\n",
       "1380    0.894486\n",
       "1393    0.894161\n",
       "216     0.890514\n",
       "Name: 1485, dtype: float32"
      ]
     },
     "execution_count": 67,
     "metadata": {},
     "output_type": "execute_result"
    }
   ],
   "source": [
    "item_sim_matrix[1485].sort_values(ascending=False).head(10)"
   ]
  },
  {
   "cell_type": "code",
   "execution_count": 68,
   "id": "1619e457",
   "metadata": {},
   "outputs": [],
   "source": [
    "movie_index = item_sim_matrix[1485].sort_values(ascending=False).head(10).index"
   ]
  },
  {
   "cell_type": "code",
   "execution_count": 69,
   "id": "e94ef5c8",
   "metadata": {},
   "outputs": [
    {
     "data": {
      "text/plain": [
       "Index([1485, 1517, 2321, 1407, 1391, 1722, 1608, 1380, 1393, 216], dtype='int64', name='movieId')"
      ]
     },
     "execution_count": 69,
     "metadata": {},
     "output_type": "execute_result"
    }
   ],
   "source": [
    "movie_index"
   ]
  },
  {
   "cell_type": "code",
   "execution_count": 70,
   "id": "f37c1d05",
   "metadata": {},
   "outputs": [
    {
     "data": {
      "text/html": [
       "<div>\n",
       "<style scoped>\n",
       "    .dataframe tbody tr th:only-of-type {\n",
       "        vertical-align: middle;\n",
       "    }\n",
       "\n",
       "    .dataframe tbody tr th {\n",
       "        vertical-align: top;\n",
       "    }\n",
       "\n",
       "    .dataframe thead th {\n",
       "        text-align: right;\n",
       "    }\n",
       "</style>\n",
       "<table border=\"1\" class=\"dataframe\">\n",
       "  <thead>\n",
       "    <tr style=\"text-align: right;\">\n",
       "      <th></th>\n",
       "      <th>movieId</th>\n",
       "      <th>title</th>\n",
       "      <th>genres</th>\n",
       "    </tr>\n",
       "  </thead>\n",
       "  <tbody>\n",
       "    <tr>\n",
       "      <th>188</th>\n",
       "      <td>216</td>\n",
       "      <td>Billy Madison (1995)</td>\n",
       "      <td>Comedy</td>\n",
       "    </tr>\n",
       "    <tr>\n",
       "      <th>1121</th>\n",
       "      <td>1380</td>\n",
       "      <td>Grease (1978)</td>\n",
       "      <td>Comedy|Musical|Romance</td>\n",
       "    </tr>\n",
       "    <tr>\n",
       "      <th>1130</th>\n",
       "      <td>1391</td>\n",
       "      <td>Mars Attacks! (1996)</td>\n",
       "      <td>Action|Comedy|Sci-Fi</td>\n",
       "    </tr>\n",
       "    <tr>\n",
       "      <th>1132</th>\n",
       "      <td>1393</td>\n",
       "      <td>Jerry Maguire (1996)</td>\n",
       "      <td>Drama|Romance</td>\n",
       "    </tr>\n",
       "    <tr>\n",
       "      <th>1143</th>\n",
       "      <td>1407</td>\n",
       "      <td>Scream (1996)</td>\n",
       "      <td>Comedy|Horror|Mystery|Thriller</td>\n",
       "    </tr>\n",
       "    <tr>\n",
       "      <th>1202</th>\n",
       "      <td>1485</td>\n",
       "      <td>Liar Liar (1997)</td>\n",
       "      <td>Comedy</td>\n",
       "    </tr>\n",
       "    <tr>\n",
       "      <th>1225</th>\n",
       "      <td>1517</td>\n",
       "      <td>Austin Powers: International Man of Mystery (1...</td>\n",
       "      <td>Action|Adventure|Comedy</td>\n",
       "    </tr>\n",
       "    <tr>\n",
       "      <th>1287</th>\n",
       "      <td>1608</td>\n",
       "      <td>Air Force One (1997)</td>\n",
       "      <td>Action|Thriller</td>\n",
       "    </tr>\n",
       "    <tr>\n",
       "      <th>1368</th>\n",
       "      <td>1722</td>\n",
       "      <td>Tomorrow Never Dies (1997)</td>\n",
       "      <td>Action|Adventure|Thriller</td>\n",
       "    </tr>\n",
       "    <tr>\n",
       "      <th>1835</th>\n",
       "      <td>2321</td>\n",
       "      <td>Pleasantville (1998)</td>\n",
       "      <td>Comedy|Drama|Fantasy</td>\n",
       "    </tr>\n",
       "  </tbody>\n",
       "</table>\n",
       "</div>"
      ],
      "text/plain": [
       "      movieId                                              title  \\\n",
       "188       216                               Billy Madison (1995)   \n",
       "1121     1380                                      Grease (1978)   \n",
       "1130     1391                               Mars Attacks! (1996)   \n",
       "1132     1393                               Jerry Maguire (1996)   \n",
       "1143     1407                                      Scream (1996)   \n",
       "1202     1485                                   Liar Liar (1997)   \n",
       "1225     1517  Austin Powers: International Man of Mystery (1...   \n",
       "1287     1608                               Air Force One (1997)   \n",
       "1368     1722                         Tomorrow Never Dies (1997)   \n",
       "1835     2321                               Pleasantville (1998)   \n",
       "\n",
       "                              genres  \n",
       "188                           Comedy  \n",
       "1121          Comedy|Musical|Romance  \n",
       "1130            Action|Comedy|Sci-Fi  \n",
       "1132                   Drama|Romance  \n",
       "1143  Comedy|Horror|Mystery|Thriller  \n",
       "1202                          Comedy  \n",
       "1225         Action|Adventure|Comedy  \n",
       "1287                 Action|Thriller  \n",
       "1368       Action|Adventure|Thriller  \n",
       "1835            Comedy|Drama|Fantasy  "
      ]
     },
     "execution_count": 70,
     "metadata": {},
     "output_type": "execute_result"
    }
   ],
   "source": [
    "movies[movies.movieId.isin(movie_index)]"
   ]
  },
  {
   "cell_type": "code",
   "execution_count": null,
   "id": "f583c308",
   "metadata": {},
   "outputs": [],
   "source": []
  }
 ],
 "metadata": {
  "kernelspec": {
   "display_name": "Python 3 (ipykernel)",
   "language": "python",
   "name": "python3"
  },
  "language_info": {
   "codemirror_mode": {
    "name": "ipython",
    "version": 3
   },
   "file_extension": ".py",
   "mimetype": "text/x-python",
   "name": "python",
   "nbconvert_exporter": "python",
   "pygments_lexer": "ipython3",
   "version": "3.11.4"
  }
 },
 "nbformat": 4,
 "nbformat_minor": 5
}
